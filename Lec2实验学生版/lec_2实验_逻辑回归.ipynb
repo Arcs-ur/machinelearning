{
 "cells": [
  {
   "cell_type": "markdown",
   "metadata": {},
   "source": [
    "# <机器学习>课程 Lecture 2 实验"
   ]
  },
  {
   "cell_type": "markdown",
   "metadata": {},
   "source": [
    "## 逻辑回归模型\n",
    "\n",
    "给定一组数据,其输入维度为2,输出维度为1.完成二分类任务.\n",
    "\n",
    "请分别使用sklearn,梯度下降法和模拟退火法来拟合."
   ]
  },
  {
   "cell_type": "markdown",
   "metadata": {},
   "source": [
    "从文件中读取数据用于后续实验."
   ]
  },
  {
   "cell_type": "code",
   "execution_count": 1,
   "metadata": {},
   "outputs": [],
   "source": [
    "import numpy as np\n",
    "from sklearn.model_selection import train_test_split\n",
    "\n",
    "data_filename = \"cls_data_0303_1007_2.npy\"\n",
    "cls_data = np.load(data_filename)\n",
    "x_data, y_data = cls_data[:, :-1], cls_data[:, -1]\n",
    "\n",
    "x_train, x_test, y_train, y_test = train_test_split(\n",
    "    x_data, y_data,\n",
    "    train_size=0.8, shuffle=True,\n",
    "    stratify=y_data\n",
    ")\n",
    "\n",
    "# x_data in [b, c_in]\n",
    "c_in = x_data.shape[1]\n",
    "# y_data in [b, c_out]\n",
    "c_out = 1\n"
   ]
  },
  {
   "cell_type": "markdown",
   "metadata": {},
   "source": [
    "首先可视化数据,观察是否是可分的."
   ]
  },
  {
   "cell_type": "code",
   "execution_count": 2,
   "metadata": {},
   "outputs": [
    {
     "data": {
      "image/png": "[encoded data removed]",
      "text/plain": [
       "<Figure size 640x480 with 1 Axes>"
      ]
     },
     "metadata": {},
     "output_type": "display_data"
    }
   ],
   "source": [
    "from matplotlib import pyplot as plt\n",
    "\n",
    "plt.figure()\n",
    "\n",
    "pos_data = x_data[y_data == 1, :]\n",
    "neg_data = x_data[y_data == 0, :]\n",
    "\n",
    "plt.scatter(pos_data[:, 0], pos_data[:, 1], c='red')\n",
    "plt.scatter(neg_data[:, 0], neg_data[:, 1], c='blue')\n",
    "\n",
    "plt.show()"
   ]
  },
  {
   "cell_type": "markdown",
   "metadata": {},
   "source": [
    "### 使用sklearn中的线性模型拟合\n"
   ]
  },
  {
   "cell_type": "code",
   "execution_count": 37,
   "metadata": {},
   "outputs": [
    {
     "name": "stdout",
     "output_type": "stream",
     "text": [
      "0.93\n"
     ]
    }
   ],
   "source": [
    "from sklearn.linear_model import LogisticRegression\n",
    "\n",
    "# === 创建模型并进行拟合 ===\n",
    "model = LogisticRegression()\n",
    "model.fit(x_train, y_train)\n",
    "\n",
    "# === 计算模型的分类准确率 ===\n",
    "accuracy = model.score(x_test, y_test)\n",
    "print(accuracy)"
   ]
  },
  {
   "cell_type": "markdown",
   "metadata": {},
   "source": [
    "### 参考之前线性模型实验的代码,实现梯度下降拟合"
   ]
  },
  {
   "cell_type": "code",
   "execution_count": 38,
   "metadata": {},
   "outputs": [],
   "source": [
    "import numpy as np\n",
    "\n",
    "# == 补全sigmoid定义 ===\n",
    "def sigmoid(val: np.ndarray) -> np.ndarray:\n",
    "    \"\"\" sigmoid function \"\"\"\n",
    "    return 1.0 / (1.0 + np.exp(-val))\n",
    "\n",
    "class LogisticRegression():\n",
    "    \"\"\"\n",
    "    logistic regression\n",
    "    \"\"\"\n",
    "    def __init__(self,\n",
    "        c_in: int, c_out: int,\n",
    "        init_mean: float, init_var: float,\n",
    "        bias: bool=True\n",
    "    ) -> None:\n",
    "        self.weight = np.random.normal(\n",
    "            init_mean, init_var,\n",
    "            size=(c_in, c_out)\n",
    "        )\n",
    "        if bias:\n",
    "            self.bias = np.random.normal(\n",
    "                init_mean, init_var,\n",
    "                size=(1, c_out)\n",
    "            )\n",
    "        else:\n",
    "            self.bias = None\n",
    "\n",
    "    def predict(self,\n",
    "        x: np.ndarray,\n",
    "        weight: np.ndarray=None\n",
    "    ) -> np.ndarray:\n",
    "        if weight is None:\n",
    "            weight = self.weight\n",
    "        if self.bias is not None:\n",
    "            return sigmoid(np.dot(x, weight) + self.bias)\n",
    "        else:\n",
    "            return sigmoid(np.dot(x, weight))\n",
    "\n",
    "    def fit_gradient_descent(self, x: np.ndarray, y: np.ndarray, step: float=0.001, iteration: int=100) -> None:\n",
    "        for _ in range(iteration):\n",
    "            y_pred = self.predict(x)\n",
    "\n",
    "            # 确保y是二维数组\n",
    "            if y.ndim == 1:\n",
    "                y = y.reshape(-1, 1)\n",
    "\n",
    "            # 计算损失和梯度\n",
    "            loss = y_pred - y  # 误差\n",
    "            gradient = np.dot(x.T, loss) / x.shape[0]  # 平均梯度\n",
    "\n",
    "            # 更新权重\n",
    "            self.weight -= step * gradient\n",
    "\n",
    "    def score(self, x: np.ndarray, y: np.ndarray) -> float:\n",
    "        y_pred = self.predict(x)\n",
    "        y_pred = np.round(y_pred)  # 将预测值四舍五入\n",
    "        # 确保y是二维数组\n",
    "        if y.ndim == 1:\n",
    "            y = y.reshape(-1, 1)  # 将y变成二维数组\n",
    "        return np.mean(y_pred == y)"
   ]
  },
  {
   "cell_type": "code",
   "execution_count": 44,
   "metadata": {},
   "outputs": [
    {
     "name": "stdout",
     "output_type": "stream",
     "text": [
      "0.88055\n"
     ]
    }
   ],
   "source": [
    "\n",
    "# === 创建模型并进行拟合 ===\n",
    "model = LogisticRegression(c_in, c_out = 800,init_mean=0.0, init_var=0.01)\n",
    "model.fit_gradient_descent(x_train, y_train)\n",
    "\n",
    "# === 计算模型的分类准确率 ===\n",
    "accuracy = model.score(x_test, y_test)\n",
    "print(accuracy)\n"
   ]
  },
  {
   "cell_type": "markdown",
   "metadata": {},
   "source": [
    "### 参考之前线性模型实验的代码,实现模拟退火法拟合"
   ]
  },
  {
   "cell_type": "code",
   "execution_count": 46,
   "metadata": {},
   "outputs": [
    {
     "name": "stdout",
     "output_type": "stream",
     "text": [
      "init_accu =  0.85875\n",
      "init_loss =  0.6102125782788548\n",
      "#0/10, temp = 0.900000 best_loss = 0.6102 cur_loss = 0.5766,\n",
      "#1/10, temp = 0.810000 best_loss = 0.5766 cur_loss = 0.5809,\n",
      "#2/10, temp = 0.729000 best_loss = 0.5766 cur_loss = 0.5763,\n",
      "#3/10, temp = 0.656100 best_loss = 0.5763 cur_loss = 0.5184,\n",
      "#4/10, temp = 0.590490 best_loss = 0.5184 cur_loss = 0.5094,\n",
      "#5/10, temp = 0.531441 best_loss = 0.5094 cur_loss = 0.5074,\n",
      "#6/10, temp = 0.478297 best_loss = 0.5074 cur_loss = 0.5313,\n",
      "#7/10, temp = 0.430467 best_loss = 0.5074 cur_loss = 0.5262,\n",
      "#8/10, temp = 0.387420 best_loss = 0.5074 cur_loss = 0.5053,\n",
      "#9/10, temp = 0.348678 best_loss = 0.5053 cur_loss = 0.5066,\n",
      "0.85875\n",
      "0.875\n"
     ]
    }
   ],
   "source": [
    "import numpy as np\n",
    "from copy import deepcopy\n",
    "\n",
    "class SimulatedAnnealing(object):\n",
    "    def __init__(self,c_in, c_out, init_mean, init_val, bias) -> None:\n",
    "        self.model = LogisticRegression(c_in, c_out, init_mean, init_val, bias)\n",
    "\n",
    "    def nll_loss(self, logits, label):\n",
    "        '''计算nll损失'''\n",
    "        logits = logits[:, 0]\n",
    "        loss = logits * label + (1-logits)*(1-label)\n",
    "        return -np.log(loss.mean())\n",
    "\n",
    "    def accuracy(self, logits, label):\n",
    "        '''计算分类准确率'''\n",
    "        label = label[:, np.newaxis]\n",
    "        preds = np.where(logits > 0.5,\n",
    "                         np.ones_like(logits),\n",
    "                         np.zeros_like(logits))\n",
    "\n",
    "        return np.array(preds == label, np.uint).mean()\n",
    "\n",
    "    def fit(self, x, y, step=0.01, iterations=100, rounds=10, init_temp=1):\n",
    "        # 首先使用给定的数据拟合\n",
    "        self.model.fit_gradient_descent(x, y, step, iterations)\n",
    "\n",
    "        # 初始化最优状态\n",
    "        best_model = deepcopy(self.model)\n",
    "        best_accu = self.accuracy(self.model.predict(x), y)\n",
    "        best_loss = self.nll_loss(self.model.predict(x), y)\n",
    "        print(\"init_accu = \", best_accu)\n",
    "        print(\"init_loss = \", best_loss)\n",
    "\n",
    "        temp = init_temp\n",
    "        # 开始多轮迭代\n",
    "        for round_idx in range(rounds):\n",
    "            # 温度下降\n",
    "            temp = temp * 0.9\n",
    "\n",
    "            # 添加扰动更新权重\n",
    "            perturb = np.random.normal(0, 0.1, size=self.model.weight.shape)\n",
    "            cur_model = deepcopy(best_model)\n",
    "            cur_model.weight += perturb\n",
    "            cur_model.bias += np.random.normal(0, 0.1, size=cur_model.bias.shape)\n",
    "\n",
    "            # 在新状态下拟合并计算新状态损失\n",
    "            cur_loss = self.nll_loss(cur_model.predict(x), y)\n",
    "            \n",
    "            print(f\"#{round_idx}/{rounds}, temp = {temp:3f} best_loss = {best_loss:.4f} cur_loss = {cur_loss:.4f},\")\n",
    "            \n",
    "            # 确认是否更新\n",
    "            if cur_loss < best_loss:\n",
    "                best_model = deepcopy(cur_model)\n",
    "                best_loss = cur_loss\n",
    "\n",
    "model = SimulatedAnnealing(c_in, c_out, 0, 0.1, True)\n",
    "model.fit(x_train, y_train, 0.01, 100, 10, 1)\n",
    "\n",
    "print(model.accuracy(model.model.predict(x_train), y_train))\n",
    "print(model.accuracy(model.model.predict(x_test), y_test))"
   ]
  }
 ],
 "metadata": {
  "kernelspec": {
   "display_name": "vvquest",
   "language": "python",
   "name": "python3"
  },
  "language_info": {
   "codemirror_mode": {
    "name": "ipython",
    "version": 3
   },
   "file_extension": ".py",
   "mimetype": "text/x-python",
   "name": "python",
   "nbconvert_exporter": "python",
   "pygments_lexer": "ipython3",
   "version": "3.13.2"
  }
 },
 "nbformat": 4,
 "nbformat_minor": 2
}
